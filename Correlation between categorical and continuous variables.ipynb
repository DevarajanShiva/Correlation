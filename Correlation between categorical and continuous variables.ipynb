{
 "cells": [
  {
   "cell_type": "markdown",
   "metadata": {},
   "source": [
    "\n",
    "# Case 1 : When independent variable has only 2 values.\n",
    "\n",
    "### Point biserial Correlation\n",
    "\n",
    "Eg. Male/Female, or Yes/No , True/False, \n"
   ]
  },
  {
   "cell_type": "code",
   "execution_count": 1,
   "metadata": {},
   "outputs": [],
   "source": [
    "import pandas as pd\n",
    "import numpy as np"
   ]
  },
  {
   "cell_type": "markdown",
   "metadata": {},
   "source": [
    "Lets create dataframe which will consist of 2 columns : <b>EmpType and Salary.</b>\n",
    "\n",
    "Purposely we will assign more salary to Type 1 Employee. So we will get some correlation between EmpType and Salary.\n",
    "\n",
    "Mean of Type 1 employee is 60 with standard deviation 5<br>\n",
    "Mean of Type 2 employee is 50 with standard deviation 5\n"
   ]
  },
  {
   "cell_type": "code",
   "execution_count": 2,
   "metadata": {},
   "outputs": [],
   "source": [
    "num1=np.random.normal(loc=60,scale=5,size=100)\n",
    "df1=pd.DataFrame(num1,columns=['Salary'])\n",
    "df1['Type']='EmpType1'\n",
    "\n",
    "num2=np.random.normal(loc=50,scale=5,size=100)\n",
    "df2=pd.DataFrame(num2,columns=['Salary'])\n",
    "df2['Type']='EmpType2'"
   ]
  },
  {
   "cell_type": "code",
   "execution_count": 3,
   "metadata": {},
   "outputs": [
    {
     "data": {
      "text/html": [
       "<div>\n",
       "<style scoped>\n",
       "    .dataframe tbody tr th:only-of-type {\n",
       "        vertical-align: middle;\n",
       "    }\n",
       "\n",
       "    .dataframe tbody tr th {\n",
       "        vertical-align: top;\n",
       "    }\n",
       "\n",
       "    .dataframe thead th {\n",
       "        text-align: right;\n",
       "    }\n",
       "</style>\n",
       "<table border=\"1\" class=\"dataframe\">\n",
       "  <thead>\n",
       "    <tr style=\"text-align: right;\">\n",
       "      <th></th>\n",
       "      <th>Salary</th>\n",
       "      <th>Type</th>\n",
       "    </tr>\n",
       "  </thead>\n",
       "  <tbody>\n",
       "    <tr>\n",
       "      <th>0</th>\n",
       "      <td>55.80387</td>\n",
       "      <td>EmpType1</td>\n",
       "    </tr>\n",
       "    <tr>\n",
       "      <th>1</th>\n",
       "      <td>69.51700</td>\n",
       "      <td>EmpType1</td>\n",
       "    </tr>\n",
       "  </tbody>\n",
       "</table>\n",
       "</div>"
      ],
      "text/plain": [
       "     Salary      Type\n",
       "0  55.80387  EmpType1\n",
       "1  69.51700  EmpType1"
      ]
     },
     "metadata": {},
     "output_type": "display_data"
    },
    {
     "data": {
      "text/html": [
       "<div>\n",
       "<style scoped>\n",
       "    .dataframe tbody tr th:only-of-type {\n",
       "        vertical-align: middle;\n",
       "    }\n",
       "\n",
       "    .dataframe tbody tr th {\n",
       "        vertical-align: top;\n",
       "    }\n",
       "\n",
       "    .dataframe thead th {\n",
       "        text-align: right;\n",
       "    }\n",
       "</style>\n",
       "<table border=\"1\" class=\"dataframe\">\n",
       "  <thead>\n",
       "    <tr style=\"text-align: right;\">\n",
       "      <th></th>\n",
       "      <th>Salary</th>\n",
       "      <th>Type</th>\n",
       "    </tr>\n",
       "  </thead>\n",
       "  <tbody>\n",
       "    <tr>\n",
       "      <th>0</th>\n",
       "      <td>52.858308</td>\n",
       "      <td>EmpType2</td>\n",
       "    </tr>\n",
       "    <tr>\n",
       "      <th>1</th>\n",
       "      <td>49.169934</td>\n",
       "      <td>EmpType2</td>\n",
       "    </tr>\n",
       "  </tbody>\n",
       "</table>\n",
       "</div>"
      ],
      "text/plain": [
       "      Salary      Type\n",
       "0  52.858308  EmpType2\n",
       "1  49.169934  EmpType2"
      ]
     },
     "metadata": {},
     "output_type": "display_data"
    }
   ],
   "source": [
    "display(df1.head(2))\n",
    "display(df2.head(2))"
   ]
  },
  {
   "cell_type": "markdown",
   "metadata": {},
   "source": [
    "Concatinate above two data into one dataset"
   ]
  },
  {
   "cell_type": "code",
   "execution_count": 4,
   "metadata": {},
   "outputs": [],
   "source": [
    "df=pd.concat([df1,df2],axis=0)"
   ]
  },
  {
   "cell_type": "code",
   "execution_count": 5,
   "metadata": {},
   "outputs": [
    {
     "data": {
      "text/html": [
       "<div>\n",
       "<style scoped>\n",
       "    .dataframe tbody tr th:only-of-type {\n",
       "        vertical-align: middle;\n",
       "    }\n",
       "\n",
       "    .dataframe tbody tr th {\n",
       "        vertical-align: top;\n",
       "    }\n",
       "\n",
       "    .dataframe thead th {\n",
       "        text-align: right;\n",
       "    }\n",
       "</style>\n",
       "<table border=\"1\" class=\"dataframe\">\n",
       "  <thead>\n",
       "    <tr style=\"text-align: right;\">\n",
       "      <th></th>\n",
       "      <th>Salary</th>\n",
       "      <th>Type</th>\n",
       "    </tr>\n",
       "  </thead>\n",
       "  <tbody>\n",
       "    <tr>\n",
       "      <th>0</th>\n",
       "      <td>55.803870</td>\n",
       "      <td>EmpType1</td>\n",
       "    </tr>\n",
       "    <tr>\n",
       "      <th>1</th>\n",
       "      <td>69.517000</td>\n",
       "      <td>EmpType1</td>\n",
       "    </tr>\n",
       "    <tr>\n",
       "      <th>2</th>\n",
       "      <td>60.091652</td>\n",
       "      <td>EmpType1</td>\n",
       "    </tr>\n",
       "    <tr>\n",
       "      <th>3</th>\n",
       "      <td>57.287639</td>\n",
       "      <td>EmpType1</td>\n",
       "    </tr>\n",
       "    <tr>\n",
       "      <th>4</th>\n",
       "      <td>58.711204</td>\n",
       "      <td>EmpType1</td>\n",
       "    </tr>\n",
       "  </tbody>\n",
       "</table>\n",
       "</div>"
      ],
      "text/plain": [
       "      Salary      Type\n",
       "0  55.803870  EmpType1\n",
       "1  69.517000  EmpType1\n",
       "2  60.091652  EmpType1\n",
       "3  57.287639  EmpType1\n",
       "4  58.711204  EmpType1"
      ]
     },
     "execution_count": 5,
     "metadata": {},
     "output_type": "execute_result"
    }
   ],
   "source": [
    "df.head()"
   ]
  },
  {
   "cell_type": "markdown",
   "metadata": {},
   "source": [
    "Since Categorical variable 'Type' has only 2 values we will convert it into numeric (0 and 1) datatype."
   ]
  },
  {
   "cell_type": "code",
   "execution_count": 6,
   "metadata": {},
   "outputs": [],
   "source": [
    "df['TypeInt']=(df['Type']=='EmpType1').astype(int)"
   ]
  },
  {
   "cell_type": "code",
   "execution_count": 7,
   "metadata": {},
   "outputs": [
    {
     "data": {
      "text/html": [
       "<div>\n",
       "<style scoped>\n",
       "    .dataframe tbody tr th:only-of-type {\n",
       "        vertical-align: middle;\n",
       "    }\n",
       "\n",
       "    .dataframe tbody tr th {\n",
       "        vertical-align: top;\n",
       "    }\n",
       "\n",
       "    .dataframe thead th {\n",
       "        text-align: right;\n",
       "    }\n",
       "</style>\n",
       "<table border=\"1\" class=\"dataframe\">\n",
       "  <thead>\n",
       "    <tr style=\"text-align: right;\">\n",
       "      <th></th>\n",
       "      <th>Salary</th>\n",
       "      <th>Type</th>\n",
       "      <th>TypeInt</th>\n",
       "    </tr>\n",
       "  </thead>\n",
       "  <tbody>\n",
       "    <tr>\n",
       "      <th>0</th>\n",
       "      <td>55.803870</td>\n",
       "      <td>EmpType1</td>\n",
       "      <td>1</td>\n",
       "    </tr>\n",
       "    <tr>\n",
       "      <th>1</th>\n",
       "      <td>69.517000</td>\n",
       "      <td>EmpType1</td>\n",
       "      <td>1</td>\n",
       "    </tr>\n",
       "    <tr>\n",
       "      <th>2</th>\n",
       "      <td>60.091652</td>\n",
       "      <td>EmpType1</td>\n",
       "      <td>1</td>\n",
       "    </tr>\n",
       "    <tr>\n",
       "      <th>3</th>\n",
       "      <td>57.287639</td>\n",
       "      <td>EmpType1</td>\n",
       "      <td>1</td>\n",
       "    </tr>\n",
       "    <tr>\n",
       "      <th>4</th>\n",
       "      <td>58.711204</td>\n",
       "      <td>EmpType1</td>\n",
       "      <td>1</td>\n",
       "    </tr>\n",
       "  </tbody>\n",
       "</table>\n",
       "</div>"
      ],
      "text/plain": [
       "      Salary      Type  TypeInt\n",
       "0  55.803870  EmpType1        1\n",
       "1  69.517000  EmpType1        1\n",
       "2  60.091652  EmpType1        1\n",
       "3  57.287639  EmpType1        1\n",
       "4  58.711204  EmpType1        1"
      ]
     },
     "execution_count": 7,
     "metadata": {},
     "output_type": "execute_result"
    }
   ],
   "source": [
    "df.head()"
   ]
  },
  {
   "cell_type": "code",
   "execution_count": 8,
   "metadata": {},
   "outputs": [
    {
     "data": {
      "text/html": [
       "<div>\n",
       "<style scoped>\n",
       "    .dataframe tbody tr th:only-of-type {\n",
       "        vertical-align: middle;\n",
       "    }\n",
       "\n",
       "    .dataframe tbody tr th {\n",
       "        vertical-align: top;\n",
       "    }\n",
       "\n",
       "    .dataframe thead th {\n",
       "        text-align: right;\n",
       "    }\n",
       "</style>\n",
       "<table border=\"1\" class=\"dataframe\">\n",
       "  <thead>\n",
       "    <tr style=\"text-align: right;\">\n",
       "      <th></th>\n",
       "      <th>Salary</th>\n",
       "      <th>TypeInt</th>\n",
       "    </tr>\n",
       "  </thead>\n",
       "  <tbody>\n",
       "    <tr>\n",
       "      <th>Salary</th>\n",
       "      <td>1.000000</td>\n",
       "      <td>0.736262</td>\n",
       "    </tr>\n",
       "    <tr>\n",
       "      <th>TypeInt</th>\n",
       "      <td>0.736262</td>\n",
       "      <td>1.000000</td>\n",
       "    </tr>\n",
       "  </tbody>\n",
       "</table>\n",
       "</div>"
      ],
      "text/plain": [
       "           Salary   TypeInt\n",
       "Salary   1.000000  0.736262\n",
       "TypeInt  0.736262  1.000000"
      ]
     },
     "execution_count": 8,
     "metadata": {},
     "output_type": "execute_result"
    }
   ],
   "source": [
    "df.corr()"
   ]
  },
  {
   "cell_type": "markdown",
   "metadata": {},
   "source": [
    "Correlation between EmpType and Salary is 0.7. So we can determine it is correlated."
   ]
  },
  {
   "cell_type": "markdown",
   "metadata": {},
   "source": [
    "<u>TRY</u>\n",
    "\n",
    "Try above method by creating dataset with different mean and sd for type1 and type2"
   ]
  },
  {
   "cell_type": "markdown",
   "metadata": {},
   "source": [
    "\n",
    "# Case 2 : When independent variable has more than 2 values.\n",
    "\n",
    "### <u>ANOVA</u>\n"
   ]
  },
  {
   "cell_type": "markdown",
   "metadata": {},
   "source": [
    "Again purposely we will assign more salary to Type 1 Employee, avg salary to Type 2 Employee and low salary to Type 3 employee. So we will get some correlation between EmpType and Salary.\n",
    "\n",
    "Mean of Type 1 employee is 90 with standard deviation 5<br>\n",
    "Mean of Type 2 employee is 70 with standard deviation 5<br>\n",
    "Mean of Type 3 employee is 50 with standard deviation 5<br>"
   ]
  },
  {
   "cell_type": "code",
   "execution_count": 9,
   "metadata": {},
   "outputs": [],
   "source": [
    "num1=np.random.normal(loc=90,scale=5,size=100)\n",
    "df1=pd.DataFrame(num1,columns=['Salary'])\n",
    "df1['Type']='EmpType1'\n",
    "\n",
    "num2=np.random.normal(loc=70,scale=5,size=100)\n",
    "df2=pd.DataFrame(num2,columns=['Salary'])\n",
    "df2['Type']='EmpType2'\n",
    "\n",
    "num3=np.random.normal(loc=50,scale=5,size=100)\n",
    "df3=pd.DataFrame(num3,columns=['Salary'])\n",
    "df3['Type']='EmpType3'"
   ]
  },
  {
   "cell_type": "code",
   "execution_count": 10,
   "metadata": {},
   "outputs": [
    {
     "data": {
      "text/html": [
       "<div>\n",
       "<style scoped>\n",
       "    .dataframe tbody tr th:only-of-type {\n",
       "        vertical-align: middle;\n",
       "    }\n",
       "\n",
       "    .dataframe tbody tr th {\n",
       "        vertical-align: top;\n",
       "    }\n",
       "\n",
       "    .dataframe thead th {\n",
       "        text-align: right;\n",
       "    }\n",
       "</style>\n",
       "<table border=\"1\" class=\"dataframe\">\n",
       "  <thead>\n",
       "    <tr style=\"text-align: right;\">\n",
       "      <th></th>\n",
       "      <th>Salary</th>\n",
       "      <th>Type</th>\n",
       "    </tr>\n",
       "  </thead>\n",
       "  <tbody>\n",
       "    <tr>\n",
       "      <th>0</th>\n",
       "      <td>80.997544</td>\n",
       "      <td>EmpType1</td>\n",
       "    </tr>\n",
       "    <tr>\n",
       "      <th>1</th>\n",
       "      <td>80.716839</td>\n",
       "      <td>EmpType1</td>\n",
       "    </tr>\n",
       "  </tbody>\n",
       "</table>\n",
       "</div>"
      ],
      "text/plain": [
       "      Salary      Type\n",
       "0  80.997544  EmpType1\n",
       "1  80.716839  EmpType1"
      ]
     },
     "metadata": {},
     "output_type": "display_data"
    },
    {
     "data": {
      "text/html": [
       "<div>\n",
       "<style scoped>\n",
       "    .dataframe tbody tr th:only-of-type {\n",
       "        vertical-align: middle;\n",
       "    }\n",
       "\n",
       "    .dataframe tbody tr th {\n",
       "        vertical-align: top;\n",
       "    }\n",
       "\n",
       "    .dataframe thead th {\n",
       "        text-align: right;\n",
       "    }\n",
       "</style>\n",
       "<table border=\"1\" class=\"dataframe\">\n",
       "  <thead>\n",
       "    <tr style=\"text-align: right;\">\n",
       "      <th></th>\n",
       "      <th>Salary</th>\n",
       "      <th>Type</th>\n",
       "    </tr>\n",
       "  </thead>\n",
       "  <tbody>\n",
       "    <tr>\n",
       "      <th>0</th>\n",
       "      <td>73.798007</td>\n",
       "      <td>EmpType2</td>\n",
       "    </tr>\n",
       "    <tr>\n",
       "      <th>1</th>\n",
       "      <td>74.731847</td>\n",
       "      <td>EmpType2</td>\n",
       "    </tr>\n",
       "  </tbody>\n",
       "</table>\n",
       "</div>"
      ],
      "text/plain": [
       "      Salary      Type\n",
       "0  73.798007  EmpType2\n",
       "1  74.731847  EmpType2"
      ]
     },
     "metadata": {},
     "output_type": "display_data"
    },
    {
     "data": {
      "text/html": [
       "<div>\n",
       "<style scoped>\n",
       "    .dataframe tbody tr th:only-of-type {\n",
       "        vertical-align: middle;\n",
       "    }\n",
       "\n",
       "    .dataframe tbody tr th {\n",
       "        vertical-align: top;\n",
       "    }\n",
       "\n",
       "    .dataframe thead th {\n",
       "        text-align: right;\n",
       "    }\n",
       "</style>\n",
       "<table border=\"1\" class=\"dataframe\">\n",
       "  <thead>\n",
       "    <tr style=\"text-align: right;\">\n",
       "      <th></th>\n",
       "      <th>Salary</th>\n",
       "      <th>Type</th>\n",
       "    </tr>\n",
       "  </thead>\n",
       "  <tbody>\n",
       "    <tr>\n",
       "      <th>0</th>\n",
       "      <td>54.178752</td>\n",
       "      <td>EmpType3</td>\n",
       "    </tr>\n",
       "    <tr>\n",
       "      <th>1</th>\n",
       "      <td>49.846284</td>\n",
       "      <td>EmpType3</td>\n",
       "    </tr>\n",
       "  </tbody>\n",
       "</table>\n",
       "</div>"
      ],
      "text/plain": [
       "      Salary      Type\n",
       "0  54.178752  EmpType3\n",
       "1  49.846284  EmpType3"
      ]
     },
     "metadata": {},
     "output_type": "display_data"
    }
   ],
   "source": [
    "display(df1.head(2))\n",
    "display(df2.head(2))\n",
    "display(df3.head(2))"
   ]
  },
  {
   "cell_type": "code",
   "execution_count": 11,
   "metadata": {},
   "outputs": [
    {
     "data": {
      "text/plain": [
       "(1443.6261043929649, 1.0179468469807724e-153)"
      ]
     },
     "execution_count": 11,
     "metadata": {},
     "output_type": "execute_result"
    }
   ],
   "source": [
    "df=pd.concat([df1,df2,df3],axis=0)\n",
    "\n",
    "from scipy import stats\n",
    " \n",
    "F, p = stats.f_oneway(df[df.Type=='EmpType1'].Salary,\n",
    "                      df[df.Type=='EmpType2'].Salary,\n",
    "                      df[df.Type=='EmpType3'].Salary)\n",
    "\n",
    "F, p"
   ]
  },
  {
   "cell_type": "markdown",
   "metadata": {},
   "source": [
    "Again lets create dataframe with almost equal salary to all Employee. And lets see the F score."
   ]
  },
  {
   "cell_type": "code",
   "execution_count": 12,
   "metadata": {},
   "outputs": [],
   "source": [
    "num1=np.random.normal(loc=60,scale=5,size=100)\n",
    "df1=pd.DataFrame(num1,columns=['Salary'])\n",
    "df1['Type']='EmpType1'\n",
    "\n",
    "num2=np.random.normal(loc=55,scale=5,size=100)\n",
    "df2=pd.DataFrame(num2,columns=['Salary'])\n",
    "df2['Type']='EmpType2'\n",
    "\n",
    "\n",
    "num3=np.random.normal(loc=50,scale=5,size=100)\n",
    "df3=pd.DataFrame(num3,columns=['Salary'])\n",
    "df3['Type']='EmpType3'"
   ]
  },
  {
   "cell_type": "code",
   "execution_count": 13,
   "metadata": {},
   "outputs": [
    {
     "data": {
      "text/plain": [
       "(86.50818230414401, 2.4863103107825594e-30)"
      ]
     },
     "execution_count": 13,
     "metadata": {},
     "output_type": "execute_result"
    }
   ],
   "source": [
    "df=pd.concat([df1,df2,df3],axis=0)\n",
    "\n",
    "from scipy import stats\n",
    " \n",
    "F, p = stats.f_oneway(df[df.Type=='EmpType1'].Salary,\n",
    "                      df[df.Type=='EmpType2'].Salary,\n",
    "                      df[df.Type=='EmpType3'].Salary)\n",
    "\n",
    "F, p"
   ]
  },
  {
   "cell_type": "markdown",
   "metadata": {},
   "source": [
    "In 1st example F score is 1443 and 2nd example F score is 86.<br>\n",
    "Higher the F score, more the correlation.\n",
    "\n",
    "\n",
    "If F score is towards 0, then there is no correlation between categorical column and continuous column. (go through below example)"
   ]
  },
  {
   "cell_type": "code",
   "execution_count": 14,
   "metadata": {},
   "outputs": [],
   "source": [
    "num1=np.random.normal(loc=50,scale=5,size=100)\n",
    "df1=pd.DataFrame(num1,columns=['Salary'])\n",
    "df1['Type']='EmpType1'\n",
    "\n",
    "num2=np.random.normal(loc=50,scale=5,size=100)\n",
    "df2=pd.DataFrame(num2,columns=['Salary'])\n",
    "df2['Type']='EmpType2'\n",
    "\n",
    "\n",
    "num3=np.random.normal(loc=50,scale=5,size=100)\n",
    "df3=pd.DataFrame(num3,columns=['Salary'])\n",
    "df3['Type']='EmpType3'"
   ]
  },
  {
   "cell_type": "code",
   "execution_count": 15,
   "metadata": {},
   "outputs": [
    {
     "data": {
      "text/plain": [
       "(1.8386059723849753, 0.16084453572413984)"
      ]
     },
     "execution_count": 15,
     "metadata": {},
     "output_type": "execute_result"
    }
   ],
   "source": [
    "df=pd.concat([df1,df2,df3],axis=0)\n",
    "\n",
    "from scipy import stats\n",
    " \n",
    "F, p = stats.f_oneway(df[df.Type=='EmpType1'].Salary,\n",
    "                      df[df.Type=='EmpType2'].Salary,\n",
    "                      df[df.Type=='EmpType3'].Salary)\n",
    "\n",
    "\n",
    "F, p"
   ]
  }
 ],
 "metadata": {
  "kernelspec": {
   "display_name": "Python 3",
   "language": "python",
   "name": "python3"
  },
  "language_info": {
   "codemirror_mode": {
    "name": "ipython",
    "version": 3
   },
   "file_extension": ".py",
   "mimetype": "text/x-python",
   "name": "python",
   "nbconvert_exporter": "python",
   "pygments_lexer": "ipython3",
   "version": "3.6.4"
  },
  "toc": {
   "base_numbering": 1,
   "nav_menu": {},
   "number_sections": true,
   "sideBar": true,
   "skip_h1_title": false,
   "title_cell": "Table of Contents",
   "title_sidebar": "Contents",
   "toc_cell": false,
   "toc_position": {},
   "toc_section_display": true,
   "toc_window_display": false
  },
  "varInspector": {
   "cols": {
    "lenName": 16,
    "lenType": 16,
    "lenVar": 40
   },
   "kernels_config": {
    "python": {
     "delete_cmd_postfix": "",
     "delete_cmd_prefix": "del ",
     "library": "var_list.py",
     "varRefreshCmd": "print(var_dic_list())"
    },
    "r": {
     "delete_cmd_postfix": ") ",
     "delete_cmd_prefix": "rm(",
     "library": "var_list.r",
     "varRefreshCmd": "cat(var_dic_list()) "
    }
   },
   "types_to_exclude": [
    "module",
    "function",
    "builtin_function_or_method",
    "instance",
    "_Feature"
   ],
   "window_display": false
  }
 },
 "nbformat": 4,
 "nbformat_minor": 2
}
