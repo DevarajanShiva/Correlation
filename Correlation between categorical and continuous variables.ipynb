{
 "cells": [
  {
   "cell_type": "markdown",
   "metadata": {},
   "source": [
    "\n",
    "# Case 1 : When independent variable has only 2 values.\n",
    "\n",
    "### <u>Point biserial Correlation</u>\n",
    "\n",
    "Eg. Male/Female, or Yes/No , True/False, \n"
   ]
  },
  {
   "cell_type": "code",
   "execution_count": 1,
   "metadata": {},
   "outputs": [],
   "source": [
    "import pandas as pd\n",
    "import numpy as np"
   ]
  },
  {
   "cell_type": "markdown",
   "metadata": {},
   "source": [
    "Lets create dataframe which will consist of 2 columns : <b>EmpType and Salary.</b>\n",
    "\n",
    "Purposely we will assign more salary to Type 1 Employee. So we will get some correlation between EmpType and Salary.\n",
    "\n",
    "Mean of Type 1 employee is 60 with standard deviation 5<br>\n",
    "Mean of Type 2 employee is 50 with standard deviation 5\n"
   ]
  },
  {
   "cell_type": "code",
   "execution_count": 2,
   "metadata": {},
   "outputs": [],
   "source": [
    "num1=np.random.normal(loc=60,scale=5,size=100)\n",
    "df1=pd.DataFrame(num1,columns=['Salary'])\n",
    "df1['Type']='EmpType1'\n",
    "\n",
    "num2=np.random.normal(loc=50,scale=5,size=100)\n",
    "df2=pd.DataFrame(num2,columns=['Salary'])\n",
    "df2['Type']='EmpType2'"
   ]
  },
  {
   "cell_type": "code",
   "execution_count": 3,
   "metadata": {},
   "outputs": [
    {
     "data": {
      "text/html": [
       "<div>\n",
       "<style scoped>\n",
       "    .dataframe tbody tr th:only-of-type {\n",
       "        vertical-align: middle;\n",
       "    }\n",
       "\n",
       "    .dataframe tbody tr th {\n",
       "        vertical-align: top;\n",
       "    }\n",
       "\n",
       "    .dataframe thead th {\n",
       "        text-align: right;\n",
       "    }\n",
       "</style>\n",
       "<table border=\"1\" class=\"dataframe\">\n",
       "  <thead>\n",
       "    <tr style=\"text-align: right;\">\n",
       "      <th></th>\n",
       "      <th>Salary</th>\n",
       "      <th>Type</th>\n",
       "    </tr>\n",
       "  </thead>\n",
       "  <tbody>\n",
       "    <tr>\n",
       "      <th>0</th>\n",
       "      <td>66.805134</td>\n",
       "      <td>EmpType1</td>\n",
       "    </tr>\n",
       "    <tr>\n",
       "      <th>1</th>\n",
       "      <td>55.298977</td>\n",
       "      <td>EmpType1</td>\n",
       "    </tr>\n",
       "  </tbody>\n",
       "</table>\n",
       "</div>"
      ],
      "text/plain": [
       "      Salary      Type\n",
       "0  66.805134  EmpType1\n",
       "1  55.298977  EmpType1"
      ]
     },
     "metadata": {},
     "output_type": "display_data"
    },
    {
     "data": {
      "text/html": [
       "<div>\n",
       "<style scoped>\n",
       "    .dataframe tbody tr th:only-of-type {\n",
       "        vertical-align: middle;\n",
       "    }\n",
       "\n",
       "    .dataframe tbody tr th {\n",
       "        vertical-align: top;\n",
       "    }\n",
       "\n",
       "    .dataframe thead th {\n",
       "        text-align: right;\n",
       "    }\n",
       "</style>\n",
       "<table border=\"1\" class=\"dataframe\">\n",
       "  <thead>\n",
       "    <tr style=\"text-align: right;\">\n",
       "      <th></th>\n",
       "      <th>Salary</th>\n",
       "      <th>Type</th>\n",
       "    </tr>\n",
       "  </thead>\n",
       "  <tbody>\n",
       "    <tr>\n",
       "      <th>0</th>\n",
       "      <td>53.855766</td>\n",
       "      <td>EmpType2</td>\n",
       "    </tr>\n",
       "    <tr>\n",
       "      <th>1</th>\n",
       "      <td>50.753600</td>\n",
       "      <td>EmpType2</td>\n",
       "    </tr>\n",
       "  </tbody>\n",
       "</table>\n",
       "</div>"
      ],
      "text/plain": [
       "      Salary      Type\n",
       "0  53.855766  EmpType2\n",
       "1  50.753600  EmpType2"
      ]
     },
     "metadata": {},
     "output_type": "display_data"
    }
   ],
   "source": [
    "display(df1.head(2))\n",
    "display(df2.head(2))"
   ]
  },
  {
   "cell_type": "markdown",
   "metadata": {},
   "source": [
    "Concatinate above two data into one dataset"
   ]
  },
  {
   "cell_type": "code",
   "execution_count": 4,
   "metadata": {},
   "outputs": [],
   "source": [
    "df=pd.concat([df1,df2],axis=0)"
   ]
  },
  {
   "cell_type": "code",
   "execution_count": 5,
   "metadata": {},
   "outputs": [
    {
     "data": {
      "text/html": [
       "<div>\n",
       "<style scoped>\n",
       "    .dataframe tbody tr th:only-of-type {\n",
       "        vertical-align: middle;\n",
       "    }\n",
       "\n",
       "    .dataframe tbody tr th {\n",
       "        vertical-align: top;\n",
       "    }\n",
       "\n",
       "    .dataframe thead th {\n",
       "        text-align: right;\n",
       "    }\n",
       "</style>\n",
       "<table border=\"1\" class=\"dataframe\">\n",
       "  <thead>\n",
       "    <tr style=\"text-align: right;\">\n",
       "      <th></th>\n",
       "      <th>Salary</th>\n",
       "      <th>Type</th>\n",
       "    </tr>\n",
       "  </thead>\n",
       "  <tbody>\n",
       "    <tr>\n",
       "      <th>0</th>\n",
       "      <td>66.805134</td>\n",
       "      <td>EmpType1</td>\n",
       "    </tr>\n",
       "    <tr>\n",
       "      <th>1</th>\n",
       "      <td>55.298977</td>\n",
       "      <td>EmpType1</td>\n",
       "    </tr>\n",
       "    <tr>\n",
       "      <th>2</th>\n",
       "      <td>61.931087</td>\n",
       "      <td>EmpType1</td>\n",
       "    </tr>\n",
       "    <tr>\n",
       "      <th>3</th>\n",
       "      <td>60.726062</td>\n",
       "      <td>EmpType1</td>\n",
       "    </tr>\n",
       "    <tr>\n",
       "      <th>4</th>\n",
       "      <td>62.461221</td>\n",
       "      <td>EmpType1</td>\n",
       "    </tr>\n",
       "  </tbody>\n",
       "</table>\n",
       "</div>"
      ],
      "text/plain": [
       "      Salary      Type\n",
       "0  66.805134  EmpType1\n",
       "1  55.298977  EmpType1\n",
       "2  61.931087  EmpType1\n",
       "3  60.726062  EmpType1\n",
       "4  62.461221  EmpType1"
      ]
     },
     "execution_count": 5,
     "metadata": {},
     "output_type": "execute_result"
    }
   ],
   "source": [
    "df.head()"
   ]
  },
  {
   "cell_type": "markdown",
   "metadata": {},
   "source": [
    "Since Categorical variable 'Type' has only 2 values we will convert it into numeric (0 and 1) datatype."
   ]
  },
  {
   "cell_type": "code",
   "execution_count": 6,
   "metadata": {},
   "outputs": [],
   "source": [
    "df['TypeInt']=(df['Type']=='EmpType1').astype(int)"
   ]
  },
  {
   "cell_type": "code",
   "execution_count": 7,
   "metadata": {},
   "outputs": [
    {
     "data": {
      "text/html": [
       "<div>\n",
       "<style scoped>\n",
       "    .dataframe tbody tr th:only-of-type {\n",
       "        vertical-align: middle;\n",
       "    }\n",
       "\n",
       "    .dataframe tbody tr th {\n",
       "        vertical-align: top;\n",
       "    }\n",
       "\n",
       "    .dataframe thead th {\n",
       "        text-align: right;\n",
       "    }\n",
       "</style>\n",
       "<table border=\"1\" class=\"dataframe\">\n",
       "  <thead>\n",
       "    <tr style=\"text-align: right;\">\n",
       "      <th></th>\n",
       "      <th>Salary</th>\n",
       "      <th>Type</th>\n",
       "      <th>TypeInt</th>\n",
       "    </tr>\n",
       "  </thead>\n",
       "  <tbody>\n",
       "    <tr>\n",
       "      <th>0</th>\n",
       "      <td>66.805134</td>\n",
       "      <td>EmpType1</td>\n",
       "      <td>1</td>\n",
       "    </tr>\n",
       "    <tr>\n",
       "      <th>1</th>\n",
       "      <td>55.298977</td>\n",
       "      <td>EmpType1</td>\n",
       "      <td>1</td>\n",
       "    </tr>\n",
       "    <tr>\n",
       "      <th>2</th>\n",
       "      <td>61.931087</td>\n",
       "      <td>EmpType1</td>\n",
       "      <td>1</td>\n",
       "    </tr>\n",
       "    <tr>\n",
       "      <th>3</th>\n",
       "      <td>60.726062</td>\n",
       "      <td>EmpType1</td>\n",
       "      <td>1</td>\n",
       "    </tr>\n",
       "    <tr>\n",
       "      <th>4</th>\n",
       "      <td>62.461221</td>\n",
       "      <td>EmpType1</td>\n",
       "      <td>1</td>\n",
       "    </tr>\n",
       "  </tbody>\n",
       "</table>\n",
       "</div>"
      ],
      "text/plain": [
       "      Salary      Type  TypeInt\n",
       "0  66.805134  EmpType1        1\n",
       "1  55.298977  EmpType1        1\n",
       "2  61.931087  EmpType1        1\n",
       "3  60.726062  EmpType1        1\n",
       "4  62.461221  EmpType1        1"
      ]
     },
     "execution_count": 7,
     "metadata": {},
     "output_type": "execute_result"
    }
   ],
   "source": [
    "df.head()"
   ]
  },
  {
   "cell_type": "code",
   "execution_count": 8,
   "metadata": {},
   "outputs": [
    {
     "data": {
      "text/html": [
       "<div>\n",
       "<style scoped>\n",
       "    .dataframe tbody tr th:only-of-type {\n",
       "        vertical-align: middle;\n",
       "    }\n",
       "\n",
       "    .dataframe tbody tr th {\n",
       "        vertical-align: top;\n",
       "    }\n",
       "\n",
       "    .dataframe thead th {\n",
       "        text-align: right;\n",
       "    }\n",
       "</style>\n",
       "<table border=\"1\" class=\"dataframe\">\n",
       "  <thead>\n",
       "    <tr style=\"text-align: right;\">\n",
       "      <th></th>\n",
       "      <th>Salary</th>\n",
       "      <th>TypeInt</th>\n",
       "    </tr>\n",
       "  </thead>\n",
       "  <tbody>\n",
       "    <tr>\n",
       "      <th>Salary</th>\n",
       "      <td>1.00000</td>\n",
       "      <td>0.72786</td>\n",
       "    </tr>\n",
       "    <tr>\n",
       "      <th>TypeInt</th>\n",
       "      <td>0.72786</td>\n",
       "      <td>1.00000</td>\n",
       "    </tr>\n",
       "  </tbody>\n",
       "</table>\n",
       "</div>"
      ],
      "text/plain": [
       "          Salary  TypeInt\n",
       "Salary   1.00000  0.72786\n",
       "TypeInt  0.72786  1.00000"
      ]
     },
     "execution_count": 8,
     "metadata": {},
     "output_type": "execute_result"
    }
   ],
   "source": [
    "df.corr()"
   ]
  },
  {
   "cell_type": "markdown",
   "metadata": {},
   "source": [
    "Correlation between EmpType and Salary is 0.697. So we can determine it is correlated."
   ]
  },
  {
   "cell_type": "markdown",
   "metadata": {},
   "source": [
    "<u>TRY</u>\n",
    "\n",
    "Try above method by creating dataset with different mean and sd for type1 and type2"
   ]
  },
  {
   "cell_type": "markdown",
   "metadata": {},
   "source": [
    "\n",
    "# Case 2 : When independent variable has more than 2 values.\n",
    "\n",
    "### <u>ANOVA</u>\n"
   ]
  },
  {
   "cell_type": "markdown",
   "metadata": {},
   "source": [
    "Again purposely we will assign more salary to Type 1 Employee, avg salary to Type 2 Employee and low salary to Type 3 employee. So we will get some correlation between EmpType and Salary.\n",
    "\n",
    "Mean of Type 1 employee is 90 with standard deviation 5<br>\n",
    "Mean of Type 2 employee is 70 with standard deviation 5<br>\n",
    "Mean of Type 3 employee is 50 with standard deviation 5<br>"
   ]
  },
  {
   "cell_type": "code",
   "execution_count": 9,
   "metadata": {},
   "outputs": [],
   "source": [
    "num1=np.random.normal(loc=90,scale=5,size=100)\n",
    "df1=pd.DataFrame(num1,columns=['Salary'])\n",
    "df1['Type']='EmpType1'\n",
    "\n",
    "num2=np.random.normal(loc=70,scale=5,size=100)\n",
    "df2=pd.DataFrame(num2,columns=['Salary'])\n",
    "df2['Type']='EmpType2'\n",
    "\n",
    "num3=np.random.normal(loc=50,scale=5,size=100)\n",
    "df3=pd.DataFrame(num3,columns=['Salary'])\n",
    "df3['Type']='EmpType3'"
   ]
  },
  {
   "cell_type": "code",
   "execution_count": 10,
   "metadata": {},
   "outputs": [
    {
     "data": {
      "text/html": [
       "<div>\n",
       "<style scoped>\n",
       "    .dataframe tbody tr th:only-of-type {\n",
       "        vertical-align: middle;\n",
       "    }\n",
       "\n",
       "    .dataframe tbody tr th {\n",
       "        vertical-align: top;\n",
       "    }\n",
       "\n",
       "    .dataframe thead th {\n",
       "        text-align: right;\n",
       "    }\n",
       "</style>\n",
       "<table border=\"1\" class=\"dataframe\">\n",
       "  <thead>\n",
       "    <tr style=\"text-align: right;\">\n",
       "      <th></th>\n",
       "      <th>Salary</th>\n",
       "      <th>Type</th>\n",
       "    </tr>\n",
       "  </thead>\n",
       "  <tbody>\n",
       "    <tr>\n",
       "      <th>0</th>\n",
       "      <td>87.167139</td>\n",
       "      <td>EmpType1</td>\n",
       "    </tr>\n",
       "    <tr>\n",
       "      <th>1</th>\n",
       "      <td>92.785263</td>\n",
       "      <td>EmpType1</td>\n",
       "    </tr>\n",
       "  </tbody>\n",
       "</table>\n",
       "</div>"
      ],
      "text/plain": [
       "      Salary      Type\n",
       "0  87.167139  EmpType1\n",
       "1  92.785263  EmpType1"
      ]
     },
     "metadata": {},
     "output_type": "display_data"
    },
    {
     "data": {
      "text/html": [
       "<div>\n",
       "<style scoped>\n",
       "    .dataframe tbody tr th:only-of-type {\n",
       "        vertical-align: middle;\n",
       "    }\n",
       "\n",
       "    .dataframe tbody tr th {\n",
       "        vertical-align: top;\n",
       "    }\n",
       "\n",
       "    .dataframe thead th {\n",
       "        text-align: right;\n",
       "    }\n",
       "</style>\n",
       "<table border=\"1\" class=\"dataframe\">\n",
       "  <thead>\n",
       "    <tr style=\"text-align: right;\">\n",
       "      <th></th>\n",
       "      <th>Salary</th>\n",
       "      <th>Type</th>\n",
       "    </tr>\n",
       "  </thead>\n",
       "  <tbody>\n",
       "    <tr>\n",
       "      <th>0</th>\n",
       "      <td>65.330263</td>\n",
       "      <td>EmpType2</td>\n",
       "    </tr>\n",
       "    <tr>\n",
       "      <th>1</th>\n",
       "      <td>74.074870</td>\n",
       "      <td>EmpType2</td>\n",
       "    </tr>\n",
       "  </tbody>\n",
       "</table>\n",
       "</div>"
      ],
      "text/plain": [
       "      Salary      Type\n",
       "0  65.330263  EmpType2\n",
       "1  74.074870  EmpType2"
      ]
     },
     "metadata": {},
     "output_type": "display_data"
    },
    {
     "data": {
      "text/html": [
       "<div>\n",
       "<style scoped>\n",
       "    .dataframe tbody tr th:only-of-type {\n",
       "        vertical-align: middle;\n",
       "    }\n",
       "\n",
       "    .dataframe tbody tr th {\n",
       "        vertical-align: top;\n",
       "    }\n",
       "\n",
       "    .dataframe thead th {\n",
       "        text-align: right;\n",
       "    }\n",
       "</style>\n",
       "<table border=\"1\" class=\"dataframe\">\n",
       "  <thead>\n",
       "    <tr style=\"text-align: right;\">\n",
       "      <th></th>\n",
       "      <th>Salary</th>\n",
       "      <th>Type</th>\n",
       "    </tr>\n",
       "  </thead>\n",
       "  <tbody>\n",
       "    <tr>\n",
       "      <th>0</th>\n",
       "      <td>54.854516</td>\n",
       "      <td>EmpType3</td>\n",
       "    </tr>\n",
       "    <tr>\n",
       "      <th>1</th>\n",
       "      <td>43.768601</td>\n",
       "      <td>EmpType3</td>\n",
       "    </tr>\n",
       "  </tbody>\n",
       "</table>\n",
       "</div>"
      ],
      "text/plain": [
       "      Salary      Type\n",
       "0  54.854516  EmpType3\n",
       "1  43.768601  EmpType3"
      ]
     },
     "metadata": {},
     "output_type": "display_data"
    }
   ],
   "source": [
    "display(df1.head(2))\n",
    "display(df2.head(2))\n",
    "display(df3.head(2))"
   ]
  },
  {
   "cell_type": "code",
   "execution_count": 11,
   "metadata": {},
   "outputs": [
    {
     "data": {
      "text/plain": [
       "(1336.3722773077513, 3.202927915337618e-149)"
      ]
     },
     "execution_count": 11,
     "metadata": {},
     "output_type": "execute_result"
    }
   ],
   "source": [
    "df=pd.concat([df1,df2,df3],axis=0)\n",
    "\n",
    "from scipy import stats\n",
    " \n",
    "F, p = stats.f_oneway(df[df.Type=='EmpType1'].Salary,\n",
    "                      df[df.Type=='EmpType2'].Salary,\n",
    "                      df[df.Type=='EmpType3'].Salary)\n",
    "\n",
    "F, p"
   ]
  },
  {
   "cell_type": "markdown",
   "metadata": {},
   "source": [
    "Again lets create dataframe with almost equal salary to all Employee. And lets see the F score."
   ]
  },
  {
   "cell_type": "code",
   "execution_count": 12,
   "metadata": {},
   "outputs": [],
   "source": [
    "num1=np.random.normal(loc=60,scale=5,size=100)\n",
    "df1=pd.DataFrame(num1,columns=['Salary'])\n",
    "df1['Type']='EmpType1'\n",
    "\n",
    "num2=np.random.normal(loc=55,scale=5,size=100)\n",
    "df2=pd.DataFrame(num2,columns=['Salary'])\n",
    "df2['Type']='EmpType2'\n",
    "\n",
    "\n",
    "num3=np.random.normal(loc=50,scale=5,size=100)\n",
    "df3=pd.DataFrame(num3,columns=['Salary'])\n",
    "df3['Type']='EmpType3'"
   ]
  },
  {
   "cell_type": "code",
   "execution_count": 13,
   "metadata": {},
   "outputs": [
    {
     "data": {
      "text/plain": [
       "(90.4959010581128, 2.0436012578229055e-31)"
      ]
     },
     "execution_count": 13,
     "metadata": {},
     "output_type": "execute_result"
    }
   ],
   "source": [
    "df=pd.concat([df1,df2,df3],axis=0)\n",
    "\n",
    "from scipy import stats\n",
    " \n",
    "F, p = stats.f_oneway(df[df.Type=='EmpType1'].Salary,\n",
    "                      df[df.Type=='EmpType2'].Salary,\n",
    "                      df[df.Type=='EmpType3'].Salary)\n",
    "\n",
    "F, p"
   ]
  },
  {
   "cell_type": "markdown",
   "metadata": {},
   "source": [
    "In 1st example F score is 1495 and 2nd example F score is 89.<br>\n",
    "Higher the F score, more the correlation.\n",
    "\n",
    "\n",
    "If F score is towards 0, then there is no correlation between categorical column and continuous column. (go through below example)"
   ]
  },
  {
   "cell_type": "code",
   "execution_count": 14,
   "metadata": {},
   "outputs": [],
   "source": [
    "num1=np.random.normal(loc=50,scale=5,size=100)\n",
    "df1=pd.DataFrame(num1,columns=['Salary'])\n",
    "df1['Type']='EmpType1'\n",
    "\n",
    "num2=np.random.normal(loc=50,scale=5,size=100)\n",
    "df2=pd.DataFrame(num2,columns=['Salary'])\n",
    "df2['Type']='EmpType2'\n",
    "\n",
    "\n",
    "num3=np.random.normal(loc=50,scale=5,size=100)\n",
    "df3=pd.DataFrame(num3,columns=['Salary'])\n",
    "df3['Type']='EmpType3'"
   ]
  },
  {
   "cell_type": "code",
   "execution_count": 15,
   "metadata": {},
   "outputs": [
    {
     "data": {
      "text/plain": [
       "(0.7491188028462923, 0.47367414957920917)"
      ]
     },
     "execution_count": 15,
     "metadata": {},
     "output_type": "execute_result"
    }
   ],
   "source": [
    "df=pd.concat([df1,df2,df3],axis=0)\n",
    "\n",
    "from scipy import stats\n",
    " \n",
    "F, p = stats.f_oneway(df[df.Type=='EmpType1'].Salary,\n",
    "                      df[df.Type=='EmpType2'].Salary,\n",
    "                      df[df.Type=='EmpType3'].Salary)\n",
    "\n",
    "\n",
    "F, p"
   ]
  }
 ],
 "metadata": {
  "kernelspec": {
   "display_name": "Python 3",
   "language": "python",
   "name": "python3"
  },
  "language_info": {
   "codemirror_mode": {
    "name": "ipython",
    "version": 3
   },
   "file_extension": ".py",
   "mimetype": "text/x-python",
   "name": "python",
   "nbconvert_exporter": "python",
   "pygments_lexer": "ipython3",
   "version": "3.6.4"
  },
  "toc": {
   "base_numbering": 1,
   "nav_menu": {},
   "number_sections": true,
   "sideBar": true,
   "skip_h1_title": false,
   "title_cell": "Table of Contents",
   "title_sidebar": "Contents",
   "toc_cell": false,
   "toc_position": {},
   "toc_section_display": true,
   "toc_window_display": false
  },
  "varInspector": {
   "cols": {
    "lenName": 16,
    "lenType": 16,
    "lenVar": 40
   },
   "kernels_config": {
    "python": {
     "delete_cmd_postfix": "",
     "delete_cmd_prefix": "del ",
     "library": "var_list.py",
     "varRefreshCmd": "print(var_dic_list())"
    },
    "r": {
     "delete_cmd_postfix": ") ",
     "delete_cmd_prefix": "rm(",
     "library": "var_list.r",
     "varRefreshCmd": "cat(var_dic_list()) "
    }
   },
   "types_to_exclude": [
    "module",
    "function",
    "builtin_function_or_method",
    "instance",
    "_Feature"
   ],
   "window_display": false
  }
 },
 "nbformat": 4,
 "nbformat_minor": 2
}
